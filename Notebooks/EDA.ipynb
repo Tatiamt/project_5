{
 "cells": [
  {
   "cell_type": "code",
   "execution_count": null,
   "id": "d8359db0",
   "metadata": {},
   "outputs": [],
   "source": []
  }
 ],
 "metadata": {
  "kernelspec": {
   "display_name": "meu_ambiente",
   "language": "python",
   "name": "python3"
  },
  "language_info": {
   "name": "python",
   "version": "3.11.13"
  }
 },
 "nbformat": 4,
 "nbformat_minor": 5
}
